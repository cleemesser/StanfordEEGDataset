{
 "cells": [
  {
   "cell_type": "markdown",
   "metadata": {},
   "source": [
    "# Basic Information on the EEG files\n",
    "- first pass completed June 2017\n",
    "- based upon initial snapshots from LPCH and Stanford as of 2016-09 and approximately 2017-01\n",
    "- some data excluded for various technical reasons (file format incompatibility, corruption, etc.)"
   ]
  },
  {
   "cell_type": "markdown",
   "metadata": {},
   "source": [
    "### Getting started\n",
    "To get an overview of the data, I have compiled a table of all the converted and de-indentified EEG files with associated metadata.\n",
    "Let's load this into a pandas data frame, df and look at the columns and the number of files."
   ]
  },
  {
   "cell_type": "code",
   "execution_count": 2,
   "metadata": {},
   "outputs": [
    {
     "data": {
      "text/plain": [
       "file_name                          136362\n",
       "patient_name                       136362\n",
       "patientcode                        136362\n",
       "gender                             134705\n",
       "birthdate                          136362\n",
       "patient_age_days                   136362\n",
       "born_premature                     136362\n",
       "gestatational_age_at_birth_days    136362\n",
       "bits_per_sample                    136362\n",
       "start_isodatetime                  136362\n",
       "end_isodatetime                    136362\n",
       "number_channels                    136362\n",
       "number_samples_per_channel         136362\n",
       "sample_frequency                   136362\n",
       "number_channels.1                  136362\n",
       "technician                              0\n",
       "patient_additional                      1\n",
       "annotations                        136362\n",
       "dtype: int64"
      ]
     },
     "execution_count": 2,
     "metadata": {},
     "output_type": "execute_result"
    }
   ],
   "source": [
    "%matplotlib inline\n",
    "\n",
    "import pandas as pd\n",
    "df = pd.read_csv('eeghdf_summary.csv', dtype={'technician':str, 'patient_additional':str})\n",
    "TOTAL_FILES = df['file_name'].count()\n",
    "df.count()"
   ]
  },
  {
   "cell_type": "markdown",
   "metadata": {},
   "source": [
    "So we can see that there are 136362 files in our data set. And, that we have information about things like the age, gender, start and stop time of the studies. We also have technical informaton about the studies like the number of channels and the sample rate. \n",
    "\n",
    "Note, none of the information like start times and birthday is true. It has all been reset to the same birthday in order to protect the privacy of the original patients.\n"
   ]
  },
  {
   "cell_type": "markdown",
   "metadata": {},
   "source": [
    "Now, let's look at the population aspects of the de-identified data. We will do this by focusing on unique subjects, and drop duplicates from our table with alternative names."
   ]
  },
  {
   "cell_type": "code",
   "execution_count": 4,
   "metadata": {
    "collapsed": true
   },
   "outputs": [],
   "source": [
    "subj = df.drop_duplicates(subset=['patient_name']) # get rows by unique patient\n",
    "# note this will keep the first instance"
   ]
  },
  {
   "cell_type": "markdown",
   "metadata": {},
   "source": [
    "### Information about the subjects in the database\n",
    "- Let's start again by looking at the basic counts"
   ]
  },
  {
   "cell_type": "code",
   "execution_count": 5,
   "metadata": {},
   "outputs": [
    {
     "data": {
      "text/plain": [
       "file_name                          12385\n",
       "patient_name                       12385\n",
       "patientcode                        12385\n",
       "gender                             12163\n",
       "birthdate                          12385\n",
       "patient_age_days                   12385\n",
       "born_premature                     12385\n",
       "gestatational_age_at_birth_days    12385\n",
       "bits_per_sample                    12385\n",
       "start_isodatetime                  12385\n",
       "end_isodatetime                    12385\n",
       "number_channels                    12385\n",
       "number_samples_per_channel         12385\n",
       "sample_frequency                   12385\n",
       "number_channels.1                  12385\n",
       "technician                             0\n",
       "patient_additional                     0\n",
       "annotations                        12385\n",
       "dtype: int64"
      ]
     },
     "execution_count": 5,
     "metadata": {},
     "output_type": "execute_result"
    }
   ],
   "source": [
    "subj.count()"
   ]
  },
  {
   "cell_type": "code",
   "execution_count": 6,
   "metadata": {},
   "outputs": [
    {
     "data": {
      "text/plain": [
       "12385"
      ]
     },
     "execution_count": 6,
     "metadata": {},
     "output_type": "execute_result"
    }
   ],
   "source": [
    "TOTAL_SUBJECTS = subj['patientcode'].count()\n",
    "TOTAL_SUBJECTS"
   ]
  },
  {
   "cell_type": "markdown",
   "metadata": {},
   "source": [
    "So there are a total of 12385 total subjects in the dataset.\n",
    "\n",
    "We can focus on their population characteristics, like gender and age."
   ]
  },
  {
   "cell_type": "code",
   "execution_count": 7,
   "metadata": {
    "collapsed": true
   },
   "outputs": [],
   "source": [
    "cols = ['patient_name', 'gender', 'patient_age_days', 'patientcode']\n",
    "subj = subj[cols]"
   ]
  },
  {
   "cell_type": "code",
   "execution_count": 9,
   "metadata": {},
   "outputs": [
    {
     "data": {
      "text/html": [
       "<div>\n",
       "<style>\n",
       "    .dataframe thead tr:only-child th {\n",
       "        text-align: right;\n",
       "    }\n",
       "\n",
       "    .dataframe thead th {\n",
       "        text-align: left;\n",
       "    }\n",
       "\n",
       "    .dataframe tbody tr th {\n",
       "        vertical-align: top;\n",
       "    }\n",
       "</style>\n",
       "<table border=\"1\" class=\"dataframe\">\n",
       "  <thead>\n",
       "    <tr style=\"text-align: right;\">\n",
       "      <th></th>\n",
       "      <th>patient_name</th>\n",
       "      <th>gender</th>\n",
       "      <th>patient_age_days</th>\n",
       "      <th>patientcode</th>\n",
       "    </tr>\n",
       "  </thead>\n",
       "  <tbody>\n",
       "    <tr>\n",
       "      <th>0</th>\n",
       "      <td>1260, Subject</td>\n",
       "      <td>Male</td>\n",
       "      <td>27.187558</td>\n",
       "      <td>2ee5afb61608548aaf92673d2ce8ea9b</td>\n",
       "    </tr>\n",
       "    <tr>\n",
       "      <th>1</th>\n",
       "      <td>1241, Subject</td>\n",
       "      <td>Female</td>\n",
       "      <td>5550.430660</td>\n",
       "      <td>1815bcdb98275b62b6df98f5794c3156</td>\n",
       "    </tr>\n",
       "    <tr>\n",
       "      <th>2</th>\n",
       "      <td>1215, Subject</td>\n",
       "      <td>Male</td>\n",
       "      <td>4897.914977</td>\n",
       "      <td>a7e628c2c1085c1f85680c175b20d3f4</td>\n",
       "    </tr>\n",
       "    <tr>\n",
       "      <th>3</th>\n",
       "      <td>1258, Subject</td>\n",
       "      <td>Female</td>\n",
       "      <td>482.541562</td>\n",
       "      <td>7cfe9ced26e35b85bfc2e340efc23f0a</td>\n",
       "    </tr>\n",
       "    <tr>\n",
       "      <th>4</th>\n",
       "      <td>1446, Subject</td>\n",
       "      <td>Female</td>\n",
       "      <td>764.598542</td>\n",
       "      <td>06548eef257453abb801755e54a18b75</td>\n",
       "    </tr>\n",
       "  </tbody>\n",
       "</table>\n",
       "</div>"
      ],
      "text/plain": [
       "    patient_name  gender  patient_age_days                       patientcode\n",
       "0  1260, Subject    Male         27.187558  2ee5afb61608548aaf92673d2ce8ea9b\n",
       "1  1241, Subject  Female       5550.430660  1815bcdb98275b62b6df98f5794c3156\n",
       "2  1215, Subject    Male       4897.914977  a7e628c2c1085c1f85680c175b20d3f4\n",
       "3  1258, Subject  Female        482.541562  7cfe9ced26e35b85bfc2e340efc23f0a\n",
       "4  1446, Subject  Female        764.598542  06548eef257453abb801755e54a18b75"
      ]
     },
     "execution_count": 9,
     "metadata": {},
     "output_type": "execute_result"
    }
   ],
   "source": [
    "subj.head() # let's look to see what the beginning of this table looks like"
   ]
  },
  {
   "cell_type": "markdown",
   "metadata": {},
   "source": [
    "## Distribution of ages in the dataset"
   ]
  },
  {
   "cell_type": "code",
   "execution_count": 14,
   "metadata": {},
   "outputs": [
    {
     "data": {
      "image/png": "[encoded data removed]",
      "text/plain": [
       "<matplotlib.figure.Figure at 0x2e93dd6c208>"
      ]
     },
     "metadata": {},
     "output_type": "display_data"
    }
   ],
   "source": [
    "subj['patient_age_years'] = subj.patient_age_days/365.25\n",
    "subj.patient_age_years.hist(bins=30, range=[0,110]);"
   ]
  },
  {
   "cell_type": "markdown",
   "metadata": {},
   "source": [
    "So we can see that we have a modes in our population around infancy and then a broad mode centered around the early 60s."
   ]
  },
  {
   "cell_type": "markdown",
   "metadata": {},
   "source": [
    "## Finally lets look at the numbers in different categories"
   ]
  },
  {
   "cell_type": "code",
   "execution_count": 9,
   "metadata": {},
   "outputs": [
    {
     "name": "stdout",
     "output_type": "stream",
     "text": [
      "number of males: 6193\n",
      "number of females: 5970\n"
     ]
    }
   ],
   "source": [
    "males = subj[subj['gender'] == 'Male']\n",
    "females = subj[subj['gender'] == 'Female']\n",
    "num_males = males['patientcode'].count()\n",
    "num_females = females['patientcode'].count()\n",
    "print(\"number of males: %s\" % num_males)\n",
    "print(\"number of females: %s\" % num_females)"
   ]
  },
  {
   "cell_type": "code",
   "execution_count": 10,
   "metadata": {
    "collapsed": true
   },
   "outputs": [],
   "source": [
    "age_18 = 18 * 365.25 # number of days in 18 years\n",
    "\n",
    "## traditional definitions of age categories\n",
    "\n",
    "neonates = subj[subj.patient_age_days <= 30]\n",
    "children = subj[subj.patient_age_days < age_18]\n",
    "adults = subj[subj.patient_age_days >= age_18]"
   ]
  },
  {
   "cell_type": "code",
   "execution_count": 11,
   "metadata": {},
   "outputs": [
    {
     "data": {
      "text/plain": [
       "patient_name         375\n",
       "gender               371\n",
       "patient_age_days     375\n",
       "patientcode          375\n",
       "patient_age_years    375\n",
       "dtype: int64"
      ]
     },
     "execution_count": 11,
     "metadata": {},
     "output_type": "execute_result"
    }
   ],
   "source": [
    "neonates.count()"
   ]
  },
  {
   "cell_type": "code",
   "execution_count": 12,
   "metadata": {},
   "outputs": [
    {
     "data": {
      "text/plain": [
       "patient_name         4994\n",
       "gender               4920\n",
       "patient_age_days     4994\n",
       "patientcode          4994\n",
       "patient_age_years    4994\n",
       "dtype: int64"
      ]
     },
     "execution_count": 12,
     "metadata": {},
     "output_type": "execute_result"
    }
   ],
   "source": [
    "children.count()"
   ]
  },
  {
   "cell_type": "code",
   "execution_count": 13,
   "metadata": {},
   "outputs": [
    {
     "data": {
      "text/plain": [
       "patient_name         7391\n",
       "gender               7243\n",
       "patient_age_days     7391\n",
       "patientcode          7391\n",
       "patient_age_years    7391\n",
       "dtype: int64"
      ]
     },
     "execution_count": 13,
     "metadata": {},
     "output_type": "execute_result"
    }
   ],
   "source": [
    "adults.count()"
   ]
  },
  {
   "cell_type": "code",
   "execution_count": null,
   "metadata": {
    "collapsed": true
   },
   "outputs": [],
   "source": []
  }
 ],
 "metadata": {
  "kernelspec": {
   "display_name": "Python 3",
   "language": "python",
   "name": "python3"
  },
  "language_info": {
   "codemirror_mode": {
    "name": "ipython",
    "version": 3
   },
   "file_extension": ".py",
   "mimetype": "text/x-python",
   "name": "python",
   "nbconvert_exporter": "python",
   "pygments_lexer": "ipython3",
   "version": "3.6.1"
  }
 },
 "nbformat": 4,
 "nbformat_minor": 2
}
